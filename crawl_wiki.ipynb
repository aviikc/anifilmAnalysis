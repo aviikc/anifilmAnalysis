{
 "cells": [
  {
   "cell_type": "code",
   "execution_count": 155,
   "metadata": {},
   "outputs": [],
   "source": [
    "import re\n",
    "import requests\n",
    "from pprint import pprint\n",
    "from collections import namedtuple"
   ]
  },
  {
   "cell_type": "code",
   "execution_count": 190,
   "metadata": {},
   "outputs": [],
   "source": [
    "from bs4 import BeautifulSoup\n",
    "import pandas as pd"
   ]
  },
  {
   "cell_type": "code",
   "execution_count": null,
   "metadata": {},
   "outputs": [],
   "source": []
  },
  {
   "cell_type": "code",
   "execution_count": null,
   "metadata": {},
   "outputs": [],
   "source": [
    "years = [i for i in range(2019,2020)]"
   ]
  },
  {
   "cell_type": "code",
   "execution_count": 21,
   "metadata": {},
   "outputs": [],
   "source": [
    "URLs = list(map(lambda a: \"_\".join([\"https://en.wikipedia.org/wiki/List_of_animated_feature_films_of\", str(a)]), years))"
   ]
  },
  {
   "cell_type": "code",
   "execution_count": 22,
   "metadata": {},
   "outputs": [
    {
     "name": "stdout",
     "output_type": "stream",
     "text": [
      "['https://en.wikipedia.org/wiki/List_of_animated_feature_films_of_2019']\n"
     ]
    }
   ],
   "source": [
    "print(URLs)"
   ]
  },
  {
   "cell_type": "code",
   "execution_count": 123,
   "metadata": {},
   "outputs": [],
   "source": [
    "res = requests.get(URLs[0]).text\n",
    "soup = BeautifulSoup(res, \"html.parser\")\n",
    "tables = soup.find('table', {'class': 'sortable wikitable'})\n",
    "#pprint(set(tables.find_all('tr')[0].text.split(\"\\n\")))\n",
    "\n"
   ]
  },
  {
   "cell_type": "code",
   "execution_count": 181,
   "metadata": {},
   "outputs": [],
   "source": [
    "film_attributes = []\n",
    "films = []\n",
    "rows = tables.find_all('th')\n",
    "for row in rows:\n",
    "    film_attributes.append(re.sub('\\n','',row.text))\n",
    "    \n",
    "Film = namedtuple('Film', film_attributes[:-1])"
   ]
  },
  {
   "cell_type": "code",
   "execution_count": 188,
   "metadata": {},
   "outputs": [],
   "source": [
    "rows = tables.find_all('tr')\n",
    "for row in rows[1:]:\n",
    "    cells = row.find_all('td')\n",
    "    s = Film(cells[0].text, cells[1].text, cells[2].text, cells[3].text, cells[4].text)\n",
    "    films.append(s)\n",
    "# print(films)"
   ]
  },
  {
   "cell_type": "code",
   "execution_count": 194,
   "metadata": {},
   "outputs": [
    {
     "name": "stdout",
     "output_type": "stream",
     "text": [
      "                                   Title               Country  \\\n",
      "0                             Abominable    ChinaUnited States   \n",
      "1                              Aladdin\\n       United States\\n   \n",
      "2                      The Addams Family   United StatesCanada   \n",
      "3                The Angry Birds Movie 2  United StatesFinland   \n",
      "4                            Arctic Dogs  CanadaUnited Kingdom   \n",
      "..                                   ...                   ...   \n",
      "253  White Snake白蛇：缘起 (Bai she: yuan qi)    ChinaUnited States   \n",
      "254                       The Wonderland                 Japan   \n",
      "255                  Welcome to Marwen\\n       United States\\n   \n",
      "256           Wonder Woman: Bloodlines\\n       United States\\n   \n",
      "257                          Wonder Park    United StatesSpain   \n",
      "\n",
      "                         Director  \\\n",
      "0     Jill Culton, Todd Wilderman   \n",
      "1                   Guy Ritchie\\n   \n",
      "2     Conrad Vernon, Greg Tiernan   \n",
      "3     Thurop Van Orman, John Rice   \n",
      "4                   Aaron Woodley   \n",
      "..                            ...   \n",
      "253                      Amp Wong   \n",
      "254                  Keiichi Hara   \n",
      "255             Robert Zemeckis\\n   \n",
      "256  Sam Liu\\nJustin Copeland\\n\\n   \n",
      "257      Dylan Brown (uncredited)   \n",
      "\n",
      "                                                Studio  \\\n",
      "0            Universal PicturesDreamworks Pearl Studio   \n",
      "1    Walt Disney Pictures\\nLin Pictures\\nRideback\\n...   \n",
      "2    Metro-Goldwyn-MayerThe Jackal GroupCinesite St...   \n",
      "3                                      Rovio Animation   \n",
      "4    Assemblage EntertainmentAMBI Media GroupAIC St...   \n",
      "..                                                 ...   \n",
      "253         Light Chaser Animation StudiosWarner Bros.   \n",
      "254                               Fuji TVDentsuAniplex   \n",
      "255          Universal Pictures, DreamWorks Pictures\\n   \n",
      "256         Warner Bros. Animation, DC Entertainment\\n   \n",
      "257         Paramount AnimationIlion Animation Studios   \n",
      "\n",
      "                        Technique  \n",
      "0                    CG animation  \n",
      "1    CG animation / Live-action\\n  \n",
      "2                    CG animation  \n",
      "3                    CG animation  \n",
      "4                    CG animation  \n",
      "..                            ...  \n",
      "253                  CG animation  \n",
      "254                   Traditional  \n",
      "255  CG animation / Live-action\\n  \n",
      "256                 Traditional\\n  \n",
      "257                  CG animation  \n",
      "\n",
      "[258 rows x 5 columns]\n"
     ]
    }
   ],
   "source": [
    "df = pd.DataFrame(films)\n",
    "print(df)"
   ]
  },
  {
   "cell_type": "code",
   "execution_count": 185,
   "metadata": {},
   "outputs": [],
   "source": [
    "# for table in tables.find('tbody').find_all('tr')[1:]:\n",
    "#     pprint(table.find_all(['th', 'td'])[0].text)"
   ]
  }
 ],
 "metadata": {
  "kernelspec": {
   "display_name": "Python 3.7.3 64-bit",
   "language": "python",
   "name": "python37364bit21dad8da4ce14b97b125f585a639d81d"
  },
  "language_info": {
   "codemirror_mode": {
    "name": "ipython",
    "version": 3
   },
   "file_extension": ".py",
   "mimetype": "text/x-python",
   "name": "python",
   "nbconvert_exporter": "python",
   "pygments_lexer": "ipython3",
   "version": "3.7.3"
  }
 },
 "nbformat": 4,
 "nbformat_minor": 4
}
