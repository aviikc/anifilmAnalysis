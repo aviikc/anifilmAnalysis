{
 "cells": [
  {
   "cell_type": "markdown",
   "metadata": {},
   "source": [
    "# Crawls through the wikipedia pages year by year"
   ]
  },
  {
   "cell_type": "code",
   "execution_count": 102,
   "metadata": {},
   "outputs": [],
   "source": [
    "import re\n",
    "import traceback\n",
    "import requests\n",
    "from datetime import datetime, timedelta\n",
    "from collections import namedtuple\n",
    "from bs4 import BeautifulSoup\n",
    "import pandas as pd"
   ]
  },
  {
   "cell_type": "code",
   "execution_count": 111,
   "metadata": {},
   "outputs": [],
   "source": [
    "class CrawlerException(Exception):\n",
    "    def __init__(self, start, message=\"Year not in (2001, 2020) range\"):\n",
    "        self.start = start\n",
    "        self.message = message\n",
    "        super().__init__(self.message)"
   ]
  },
  {
   "cell_type": "code",
   "execution_count": 116,
   "metadata": {},
   "outputs": [],
   "source": [
    "class AniCrawler:\n",
    "    WIKI_URL = \"https://en.wikipedia.org/wiki/List_of_animated_feature_films_of\"\n",
    "    def __init__(self, *args):\n",
    "        if len(args) == 0:\n",
    "            self._year = str(int(datetime.now().strftime(\"%Y\"))-1)\n",
    "        elif len(args) == 1:\n",
    "            self._year = args[0]\n",
    "        elif len(args)==2:\n",
    "            try:\n",
    "                if 2000<args[0]<=2019 and 2000<args[1]<=2019:\n",
    "                    if args[0]>args[1]:\n",
    "                        start_year = args[1]\n",
    "                        end_year = args[0]\n",
    "                        self._duration = [i for i in range(start_year, end_year)]\n",
    "                    elif args[0]<args[1]:\n",
    "                        start_year = args[0]\n",
    "                        end_year = args[1]\n",
    "                        self._duration = [i for i in range(start_year, end_year)]                    \n",
    "                else:\n",
    "                    self._duration = []\n",
    "                    raise CrawlerException(args)\n",
    "            except CrawlerException as e:\n",
    "                print(e)\n",
    "        else:\n",
    "            print(\"Bad args!\")\n",
    "        self._films = []\n",
    "       \n",
    "               \n",
    "    def duration(self):\n",
    "        try:\n",
    "            return self._duration\n",
    "        except AttributeError:\n",
    "            return self._year\n",
    "    \n",
    "    @property\n",
    "    def urls(self):\n",
    "        if self.duration():\n",
    "            self._urls = list(map(lambda s : \"_\".join([self.WIKI_URL, str(s)]), self.duration()))\n",
    "            return self._urls\n",
    "        return \"_\".join([self.WIKI_URL, self._year])\n",
    "    \n",
    "    @property\n",
    "    def films(self):\n",
    "        self._films = self._makeFilms() \n",
    "        return self._films  \n",
    "    \n",
    "    @staticmethod\n",
    "    def _requestUrl(url_string):\n",
    "        try:\n",
    "            return requests.get(url_string).text\n",
    "        except Exception:\n",
    "            print(\"Request Invalid\")\n",
    " \n",
    "    @staticmethod\n",
    "    def _makeSoup(res):\n",
    "        try:\n",
    "            return BeautifulSoup(res, \"html.parser\")\n",
    "        except Exception:\n",
    "            print(\"Bad Soup\")\n",
    "            \n",
    "    @staticmethod\n",
    "    def _getTable(soup):\n",
    "        return soup.find('table', {'class': 'sortable wikitable'})\n",
    "\n",
    "    def _makeFilms(self):\n",
    "        for _ in self.urls:\n",
    "            current_url = self._requestUrl(_)\n",
    "            current_soup = self._makeSoup(current_url)\n",
    "            current_table = self._getTable(current_soup)\n",
    "            self._films.append(self._getRows(current_table))\n",
    "        return self._films\n",
    "#         try:        \n",
    "#             return self.films(self._getRows(current_table))\n",
    "#         except Exception:\n",
    "#             pass\n",
    "                       \n",
    "    def _getHeaders(self, tables):\n",
    "        film_attributes = []\n",
    "        try:\n",
    "            rows = tables.find_all('th')\n",
    "            for row in rows:\n",
    "                film_attributes.append(self._stringCleanup(row.text))\n",
    "                return film_attributes\n",
    "        except AttributeError:\n",
    "            pass\n",
    "        return film_attributes\n",
    "        \n",
    "    @staticmethod\n",
    "    def _stringCleanup(my_string):\n",
    "        try:\n",
    "            my_string = re.sub('\\n','',my_string)\n",
    "        except Exception:\n",
    "            pass\n",
    "        return my_string\n",
    "    \n",
    "    \n",
    "    def _getRows(self, table):\n",
    "        headers = self._getHeaders(table)\n",
    "        if len(headers)>0:\n",
    "            Film = namedtuple('Film', headers[:-1])\n",
    "            rows = table.find_all('tr')\n",
    "            for row in rows[1:]:\n",
    "                cells = row.find_all('td')\n",
    "                s = Film(cells[0].text, cells[1].text, cells[2].text, cells[3].text, cells[4].text)\n",
    "                return s\n",
    "        else:\n",
    "            print(\"Unable to Parse table\")"
   ]
  },
  {
   "cell_type": "code",
   "execution_count": 117,
   "metadata": {},
   "outputs": [
    {
     "name": "stdout",
     "output_type": "stream",
     "text": [
      "Year not in (2001, 2020) range\n"
     ]
    },
    {
     "ename": "AttributeError",
     "evalue": "'AniCrawler' object has no attribute '_year'",
     "output_type": "error",
     "traceback": [
      "\u001b[0;31m---------------------------------------------------------------------------\u001b[0m",
      "\u001b[0;31mAttributeError\u001b[0m                            Traceback (most recent call last)",
      "\u001b[0;32m<ipython-input-116-0f2424245e14>\u001b[0m in \u001b[0;36mduration\u001b[0;34m(self)\u001b[0m\n\u001b[1;32m     30\u001b[0m         \u001b[0;32mtry\u001b[0m\u001b[0;34m:\u001b[0m\u001b[0;34m\u001b[0m\u001b[0;34m\u001b[0m\u001b[0m\n\u001b[0;32m---> 31\u001b[0;31m             \u001b[0;32mreturn\u001b[0m \u001b[0mself\u001b[0m\u001b[0;34m.\u001b[0m\u001b[0m_duration\u001b[0m\u001b[0;34m\u001b[0m\u001b[0;34m\u001b[0m\u001b[0m\n\u001b[0m\u001b[1;32m     32\u001b[0m         \u001b[0;32mexcept\u001b[0m \u001b[0mAttributeError\u001b[0m\u001b[0;34m:\u001b[0m\u001b[0;34m\u001b[0m\u001b[0;34m\u001b[0m\u001b[0m\n",
      "\u001b[0;31mAttributeError\u001b[0m: 'AniCrawler' object has no attribute '_duration'",
      "\nDuring handling of the above exception, another exception occurred:\n",
      "\u001b[0;31mAttributeError\u001b[0m                            Traceback (most recent call last)",
      "\u001b[0;32m<ipython-input-117-04ae5d320cb5>\u001b[0m in \u001b[0;36m<module>\u001b[0;34m\u001b[0m\n\u001b[1;32m      1\u001b[0m \u001b[0msd\u001b[0m \u001b[0;34m=\u001b[0m \u001b[0mAniCrawler\u001b[0m\u001b[0;34m(\u001b[0m\u001b[0;36m1999\u001b[0m\u001b[0;34m,\u001b[0m \u001b[0;36m2007\u001b[0m\u001b[0;34m)\u001b[0m\u001b[0;34m\u001b[0m\u001b[0;34m\u001b[0m\u001b[0m\n\u001b[1;32m      2\u001b[0m \u001b[0;34m\u001b[0m\u001b[0m\n\u001b[0;32m----> 3\u001b[0;31m \u001b[0mprint\u001b[0m\u001b[0;34m(\u001b[0m\u001b[0msd\u001b[0m\u001b[0;34m.\u001b[0m\u001b[0mduration\u001b[0m\u001b[0;34m(\u001b[0m\u001b[0;34m)\u001b[0m\u001b[0;34m)\u001b[0m\u001b[0;34m\u001b[0m\u001b[0;34m\u001b[0m\u001b[0m\n\u001b[0m\u001b[1;32m      4\u001b[0m \u001b[0;31m# print(sd.films)\u001b[0m\u001b[0;34m\u001b[0m\u001b[0;34m\u001b[0m\u001b[0;34m\u001b[0m\u001b[0m\n\u001b[1;32m      5\u001b[0m \u001b[0;31m# # print(sd.urls)\u001b[0m\u001b[0;34m\u001b[0m\u001b[0;34m\u001b[0m\u001b[0;34m\u001b[0m\u001b[0m\n",
      "\u001b[0;32m<ipython-input-116-0f2424245e14>\u001b[0m in \u001b[0;36mduration\u001b[0;34m(self)\u001b[0m\n\u001b[1;32m     31\u001b[0m             \u001b[0;32mreturn\u001b[0m \u001b[0mself\u001b[0m\u001b[0;34m.\u001b[0m\u001b[0m_duration\u001b[0m\u001b[0;34m\u001b[0m\u001b[0;34m\u001b[0m\u001b[0m\n\u001b[1;32m     32\u001b[0m         \u001b[0;32mexcept\u001b[0m \u001b[0mAttributeError\u001b[0m\u001b[0;34m:\u001b[0m\u001b[0;34m\u001b[0m\u001b[0;34m\u001b[0m\u001b[0m\n\u001b[0;32m---> 33\u001b[0;31m             \u001b[0;32mreturn\u001b[0m \u001b[0mself\u001b[0m\u001b[0;34m.\u001b[0m\u001b[0m_year\u001b[0m\u001b[0;34m\u001b[0m\u001b[0;34m\u001b[0m\u001b[0m\n\u001b[0m\u001b[1;32m     34\u001b[0m \u001b[0;34m\u001b[0m\u001b[0m\n\u001b[1;32m     35\u001b[0m     \u001b[0;34m@\u001b[0m\u001b[0mproperty\u001b[0m\u001b[0;34m\u001b[0m\u001b[0;34m\u001b[0m\u001b[0m\n",
      "\u001b[0;31mAttributeError\u001b[0m: 'AniCrawler' object has no attribute '_year'"
     ]
    }
   ],
   "source": [
    "sd = AniCrawler(1999, 2007)\n",
    "\n",
    "print(sd.duration())\n",
    "# print(sd.films)\n",
    "# # print(sd.urls)"
   ]
  },
  {
   "cell_type": "code",
   "execution_count": null,
   "metadata": {},
   "outputs": [],
   "source": []
  }
 ],
 "metadata": {
  "kernelspec": {
   "display_name": "Python 3",
   "language": "python",
   "name": "python3"
  },
  "language_info": {
   "codemirror_mode": {
    "name": "ipython",
    "version": 3
   },
   "file_extension": ".py",
   "mimetype": "text/x-python",
   "name": "python",
   "nbconvert_exporter": "python",
   "pygments_lexer": "ipython3",
   "version": "3.7.6"
  }
 },
 "nbformat": 4,
 "nbformat_minor": 4
}
